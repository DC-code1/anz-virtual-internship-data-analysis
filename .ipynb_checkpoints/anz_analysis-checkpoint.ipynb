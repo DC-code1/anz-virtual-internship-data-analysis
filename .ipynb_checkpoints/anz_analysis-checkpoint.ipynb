{
 "cells": [
  {
   "cell_type": "markdown",
   "metadata": {},
   "source": [
    "### Author Statement\n",
    "This project has been developed by Mustafa Neguib who is a student of\n",
    "Masters of Information Technology at The University of Melbourne.\n",
    "You can contact the developer at mustafa.neguib@gmail.com\n",
    "Website: http://www.mustafaneguib.com\n",
    "github: http://github.com/mustafaneguib/"
   ]
  },
  {
   "cell_type": "code",
   "execution_count": 32,
   "metadata": {},
   "outputs": [],
   "source": [
    "import os\n",
    "import numpy as np\n",
    "import geopandas\n",
    "import pandas as pd\n",
    "import ast\n",
    "from shapely import geometry\n",
    "import matplotlib.pyplot as plt\n",
    "import folium\n",
    "from sklearn.cluster import DBSCAN\n",
    "from dateutil.parser import parse\n",
    "import datetime\n",
    "from rtree import index\n"
   ]
  },
  {
   "cell_type": "code",
   "execution_count": 156,
   "metadata": {},
   "outputs": [],
   "source": [
    "def create_output_directory():\n",
    "    # This function is the first one to run, so we want to make sure that the output folder is\n",
    "    # created before all other functions run.\n",
    "    try:\n",
    "        os.mkdir(\"output\")\n",
    "    except FileExistsError:\n",
    "        # The folder already exists, so do nothing.\n",
    "        pass\n",
    "\n",
    "def read_csv_file(csv_file_name, required_columns):\n",
    "    \"\"\"\n",
    "    This function reads in the csv file and then checks if the file has the correct\n",
    "    number of columns and also if the column names are correct.\n",
    "    :param csv_file_name: A string containing the name of the csv file to read.\n",
    "    :param required_columns: A list containing the column names that are required by this project for the file.\n",
    "    :return: data_frame is a pandas data frame which contains the data read from the csv file\n",
    "\n",
    "    \"\"\"\n",
    "\n",
    "    execution_halted_str = 'Execution halted in the function read_csv_file!!!'\n",
    "    path_of_file = os.path.join(os.getcwd(), csv_file_name)\n",
    "    if os.path.exists(path_of_file):\n",
    "        data_frame = pd.read_csv(path_of_file)\n",
    "\n",
    "        if data_frame.columns.size == len(required_columns):\n",
    "\n",
    "            # This code is checking if the column exists, no matter in what order it comes in the\n",
    "            # csv file. This means that as long as the column exists in the csv file we do not care,\n",
    "            # whether it is the first column, or the last column.\n",
    "\n",
    "            found_invalid_columns = False\n",
    "            invalid_columns = []\n",
    "            for column in required_columns:\n",
    "                try:\n",
    "                    # If the column is not in the data frame, then a ValueError will be thrown, which\n",
    "                    # will tell me that there was a problem. If no such error is thrown then the data frame\n",
    "                    # has all of the required columns.\n",
    "                    list(data_frame.columns).index(column)\n",
    "                except ValueError as value_error:\n",
    "                    found_invalid_columns = True\n",
    "                    invalid_columns.append(column)\n",
    "\n",
    "            if found_invalid_columns:\n",
    "                raise Exception(\n",
    "                    '{} The csv file {} provided does not contain the column(s) {}.'.format(execution_halted_str,\n",
    "                                                                                            csv_file_name,\n",
    "                                                                                            ', '.join(invalid_columns)))\n",
    "            return data_frame\n",
    "        else:\n",
    "            raise Exception(\n",
    "                \"{} The csv file {} does not contain all of the required columns. Please check the file and ensure that the columns and their names are correct.\".format(\n",
    "                    execution_halted_str, csv_file_name))\n",
    "    else:\n",
    "        raise FileNotFoundError(\n",
    "            \"{} The csv file {} was not found in the current directory.\".format(execution_halted_str, csv_file_name))\n",
    "\n",
    "def read_excel_file(csv_file_name, required_columns):\n",
    "    \"\"\"\n",
    "    This function reads in the csv file and then checks if the file has the correct\n",
    "    number of columns and also if the column names are correct.\n",
    "    :param csv_file_name: A string containing the name of the csv file to read.\n",
    "    :param required_columns: A list containing the column names that are required by this project for the file.\n",
    "    :return: data_frame is a pandas data frame which contains the data read from the csv file\n",
    "\n",
    "    \"\"\"\n",
    "\n",
    "    execution_halted_str = 'Execution halted in the function read_csv_file!!!'\n",
    "    path_of_file = os.path.join(os.getcwd(), csv_file_name)\n",
    "    if os.path.exists(path_of_file):\n",
    "        data_frame = pd.read_excel(path_of_file)\n",
    "\n",
    "        if data_frame.columns.size == len(required_columns):\n",
    "\n",
    "            # This code is checking if the column exists, no matter in what order it comes in the\n",
    "            # csv file. This means that as long as the column exists in the csv file we do not care,\n",
    "            # whether it is the first column, or the last column.\n",
    "\n",
    "            found_invalid_columns = False\n",
    "            invalid_columns = []\n",
    "            for column in required_columns:\n",
    "                try:\n",
    "                    # If the column is not in the data frame, then a ValueError will be thrown, which\n",
    "                    # will tell me that there was a problem. If no such error is thrown then the data frame\n",
    "                    # has all of the required columns.\n",
    "                    list(data_frame.columns).index(column)\n",
    "                except ValueError as value_error:\n",
    "                    found_invalid_columns = True\n",
    "                    invalid_columns.append(column)\n",
    "\n",
    "            if found_invalid_columns:\n",
    "                raise Exception(\n",
    "                    '{} The csv file {} provided does not contain the column(s) {}.'.format(execution_halted_str,\n",
    "                                                                                            csv_file_name,\n",
    "                                                                                            ', '.join(invalid_columns)))\n",
    "            return data_frame\n",
    "        else:\n",
    "            raise Exception(\n",
    "                \"{} The csv file {} does not contain all of the required columns. Please check the file and ensure that the columns and their names are correct.\".format(\n",
    "                    execution_halted_str, csv_file_name))\n",
    "    else:\n",
    "        raise FileNotFoundError(\n",
    "            \"{} The csv file {} was not found in the current directory.\".format(execution_halted_str, csv_file_name))\n",
    "\n",
    "\n",
    "def read_shape_file(shape_file_name, required_columns):\n",
    "    \"\"\"\n",
    "    This function reads in the provided shape file from the disk\n",
    "    :param shape_file_name:  A string containing the name of the shape file to read.\n",
    "    :param required_columns: A list containing the column names that are required by this project for the file.\n",
    "    :return: geo_data_frame is a geopandas data frame which contains the data read from the shape file\n",
    "    \"\"\"\n",
    "\n",
    "    execution_halted_str = 'Execution halted in the function read_shape_file!!!'\n",
    "    path_of_file = os.path.join(os.getcwd(), shape_file_name)\n",
    "    if os.path.exists(path_of_file):\n",
    "\n",
    "        # This code is checking if the column exists, no matter in what order it comes in the\n",
    "        # csv file. This means that as long as the column exists in the csv file we do not care,\n",
    "        # whether it is the first column, or the last column.\n",
    "\n",
    "        geo_data_frame = geopandas.read_file(shape_file_name)\n",
    "        if geo_data_frame.columns.size == len(required_columns):\n",
    "\n",
    "            # This code is checking if the column exists, no matter in what order it comes in the\n",
    "            # csv file. This means that as long as the column exists in the csv file we do not care,\n",
    "            # whether it is the first column, or the last column.\n",
    "\n",
    "            found_invalid_columns = False\n",
    "            invalid_columns = []\n",
    "            for column in required_columns:\n",
    "                try:\n",
    "                    # If the column is not in the data frame, then a ValueError will be thrown, which\n",
    "                    # will tell me that there was a problem. If no such error is thrown then the data frame\n",
    "                    # has all of the required columns.\n",
    "                    list(geo_data_frame.columns).index(column)\n",
    "                except ValueError as value_error:\n",
    "                    found_invalid_columns = True\n",
    "                    invalid_columns.append(column)\n",
    "\n",
    "            if found_invalid_columns:\n",
    "                raise Exception(\n",
    "                    '{} The shape file {} provided does not contain the column(s) {}.'.format(execution_halted_str,\n",
    "                                                                                              shape_file_name,\n",
    "                                                                                              ', '.join(\n",
    "                                                                                                  invalid_columns)))\n",
    "            return geo_data_frame\n",
    "        else:\n",
    "            raise Exception(\n",
    "                \"{} The shape file {} does not contain all of the required columns. Please check the file and ensure that the columns and their names are correct.\".format(\n",
    "                    execution_halted_str, shape_file_name))\n",
    "\n",
    "    else:\n",
    "        raise FileNotFoundError(\n",
    "            \"{} The shape file {} was not found in the current directory.\".format(execution_halted_str,\n",
    "                                                                                  shape_file_name))\n",
    "def read_geojson_file(geojson_file_name, required_columns):\n",
    "    \"\"\"\n",
    "    This function reads in the provided shape file from the disk\n",
    "    :param geojson_file_name:  A string containing the name of the shape file to read.\n",
    "    :param required_columns: A list containing the column names that are required by this project for the file.\n",
    "    :return: geo_data_frame is a geopandas data frame which contains the data read from the shape file\n",
    "    \"\"\"\n",
    "\n",
    "    execution_halted_str = 'Execution halted in the function read_geojson_file!!!'\n",
    "    path_of_file = os.path.join(os.getcwd(), geojson_file_name)\n",
    "    if os.path.exists(path_of_file):\n",
    "\n",
    "        # This code is checking if the column exists, no matter in what order it comes in the\n",
    "        # csv file. This means that as long as the column exists in the csv file we do not care,\n",
    "        # whether it is the first column, or the last column.\n",
    "\n",
    "        geo_data_frame = geopandas.read_file(geojson_file_name)\n",
    "        if geo_data_frame.columns.size == len(required_columns):\n",
    "\n",
    "            # This code is checking if the column exists, no matter in what order it comes in the\n",
    "            # csv file. This means that as long as the column exists in the csv file we do not care,\n",
    "            # whether it is the first column, or the last column.\n",
    "\n",
    "            found_invalid_columns = False\n",
    "            invalid_columns = []\n",
    "            for column in required_columns:\n",
    "                try:\n",
    "                    # If the column is not in the data frame, then a ValueError will be thrown, which\n",
    "                    # will tell me that there was a problem. If no such error is thrown then the data frame\n",
    "                    # has all of the required columns.\n",
    "                    list(geo_data_frame.columns).index(column)\n",
    "                except ValueError as value_error:\n",
    "                    found_invalid_columns = True\n",
    "                    invalid_columns.append(column)\n",
    "\n",
    "            if found_invalid_columns:\n",
    "                raise Exception(\n",
    "                    '{} The geojson file {} provided does not contain the column(s) {}.'.format(execution_halted_str,\n",
    "                                                                                              geojson_file_name,\n",
    "                                                                                              ', '.join(\n",
    "                                                                                                  invalid_columns)))\n",
    "            return geo_data_frame\n",
    "        else:\n",
    "            raise Exception(\n",
    "                \"{} The geojson file {} does not contain all of the required columns. Please check the file and ensure that the columns and their names are correct.\".format(\n",
    "                    execution_halted_str, geojson_file_name))\n",
    "\n",
    "    else:\n",
    "        raise FileNotFoundError(\n",
    "            \"{} The geojson file {} was not found in the current directory.\".format(execution_halted_str,\n",
    "                                                                                  geojson_file_name))        \n",
    "def build_geometry(data):\n",
    "    \"\"\"\n",
    "    This function builds a Shapely Point geometry based on the longitude and latitude values.\n",
    "    :param data: Pandas data frame\n",
    "    :return: Shapely Point geometry\n",
    "    \"\"\"\n",
    "    location=data['long_lat']\n",
    "    longitude=location.split()[0]\n",
    "    longitude=float(ast.literal_eval(longitude))\n",
    "\n",
    "    latitude=location.split()[1]\n",
    "    latitude=float(ast.literal_eval(latitude))\n",
    "    if longitude==0 and latitude==0:\n",
    "        return None\n",
    "    else:    \n",
    "        return geometry.Point(longitude, latitude)\n",
    "\n",
    "def build_longitude(data):\n",
    "    \"\"\"\n",
    "    This function builds a Shapely Point geometry based on the longitude and latitude values.\n",
    "    :param data: Pandas data frame\n",
    "    :return: Shapely Point geometry\n",
    "    \"\"\"\n",
    "    location=data['long_lat']\n",
    "    longitude=location.split()[0]\n",
    "    longitude=float(ast.literal_eval(longitude))\n",
    "\n",
    "    latitude=location.split()[1]\n",
    "    latitude=float(ast.literal_eval(latitude))\n",
    "    if longitude==0 and latitude==0:\n",
    "        return None\n",
    "    else:    \n",
    "        return longitude\n",
    "    \n",
    "def build_latitude(data):\n",
    "    \"\"\"\n",
    "    This function builds a Shapely Point geometry based on the longitude and latitude values.\n",
    "    :param data: Pandas data frame\n",
    "    :return: Shapely Point geometry\n",
    "    \"\"\"\n",
    "    location=data['long_lat']\n",
    "    longitude=location.split()[0]\n",
    "    longitude=float(ast.literal_eval(longitude))\n",
    "\n",
    "    latitude=location.split()[1]\n",
    "    latitude=float(ast.literal_eval(latitude))\n",
    "    if longitude==0 and latitude==0:\n",
    "        return None\n",
    "    else:    \n",
    "        return latitude\n",
    "\n",
    "def write_to_shape_file(dataframe, file_name):\n",
    "    \"\"\"\n",
    "    This function writes the dataframe to a shape file. This function also ensures\n",
    "    that the folder output exists.\n",
    "    :param dataframe: geopandas dataframe\n",
    "    :param file_name: string name for the file\n",
    "    :return: string path to the file\n",
    "    \"\"\"\n",
    "    execution_halted_str = 'Execution halted in the function write_to_shape_file!!!'\n",
    "    path_of_directory = os.path.join(os.getcwd(), \"output\")\n",
    "    path_of_file = os.path.join(os.getcwd(), \"output\", file_name)\n",
    "    if os.path.exists(path_of_directory):\n",
    "        dataframe.to_file(path_of_file)\n",
    "        return path_of_file\n",
    "    else:\n",
    "        raise FileNotFoundError(\n",
    "            \"{} The file {} was not found in the current directory.\".format(execution_halted_str,\n",
    "                                                                            path_of_directory))    \n",
    "        \n",
    "def write_to_geojson_file(dataframe, file_name):\n",
    "    \"\"\"\n",
    "    This function writes the dataframe to a shape file. This function also ensures\n",
    "    that the folder output exists.\n",
    "    :param dataframe: geopandas dataframe\n",
    "    :param file_name: string name for the file\n",
    "    :return: string path to the file\n",
    "    \"\"\"\n",
    "    execution_halted_str = 'Execution halted in the function write_to_shape_file!!!'\n",
    "    path_of_directory = os.path.join(os.getcwd(), \"output\")\n",
    "    path_of_file = os.path.join(os.getcwd(), \"output\", file_name)\n",
    "    if os.path.exists(path_of_directory):\n",
    "        dataframe.to_file(path_of_file, driver=\"GeoJSON\")\n",
    "        return path_of_file\n",
    "    else:\n",
    "        raise FileNotFoundError(\n",
    "            \"{} The file {} was not found in the current directory.\".format(execution_halted_str,\n",
    "                                                                            path_of_directory))            \n",
    "\n",
    "def get_columns_from_data(data, columns):\n",
    "    \"\"\"\n",
    "    This function is a wrapper around the indexing of pandas data frames. This function gets all of the rows\n",
    "    from the data frame.\n",
    "    :param data: Pandas data frame\n",
    "    :param columns: The columns which are to be selected.\n",
    "    :return: Pandas data frame\n",
    "    \"\"\"\n",
    "    return data.loc[:, columns]\n",
    "\n",
    "\n",
    "def get_columns_from_data_range_rows(data, start_row, end_row, columns):\n",
    "    \"\"\"\n",
    "    This function is a wrapper around the indexing of pandas data frames. This function gets some of the rows\n",
    "    from the data frame specified by the start_row and end_row.\n",
    "    :param data: Pandas data frame\n",
    "    :param start_row: int value specifying the row to start from\n",
    "    :param end_row: int value specifying the row to end at\n",
    "    :param columns: The columns which are to be selected.\n",
    "    :return: Pandas data frame\n",
    "    \"\"\"\n",
    "    return data.loc[start_row:end_row, columns]   \n",
    "\n",
    "def group_by_data(data, columns):\n",
    "    \"\"\"\n",
    "    This is a wrapper function which wraps around the pandas group by function.\n",
    "    :param data: Pandas data frame\n",
    "    :param columns: The columns which are to be used to be group the data frame on\n",
    "    :return: Pandas data frame\n",
    "    \"\"\"\n",
    "    return data.groupby(columns).size().to_frame('count').reset_index()\n",
    "\n",
    "def plot_bar_plot(x, y, x_axis_label, y_axis_label, title):\n",
    "    \"\"\"\n",
    "    This function plots a bar plot of values of x against the y\n",
    "    :param x: list of x values\n",
    "    :param y: list of y values\n",
    "    :param x_axis_label: list of labels for x\n",
    "    :param y_axis_label: list of labels for y\n",
    "    :param title: string value for the title of the plot\n",
    "    :return: the filename of the figure that has been saved.\n",
    "    \"\"\"\n",
    "    fig, ax = plt.subplots()\n",
    "    ax.bar(x, y)\n",
    "    ax.set_xlabel(x_axis_label, fontsize=10)\n",
    "    ax.set_ylabel(y_axis_label, fontsize=10)\n",
    "    ax.set_xticks(x)\n",
    "    ax.set_xticklabels(x, fontsize=10, rotation=90)\n",
    "    ax.set_title(title)\n",
    "    # ax.legend(loc='upper right', frameon=True)\n",
    "    plt.show()\n",
    "    file_name = ((((title + '.png').replace('/', ''))).replace(' ', '_')).lower()\n",
    "    # fig.savefig('output/' + file_name, dpi=100, bbox_inches='tight')\n",
    "    return write_to_image_file(fig, file_name, False, 100)\n",
    "\n",
    "def write_to_image_file(figure, file_name, more_options, dpi):\n",
    "    \"\"\"\n",
    "    This function writes an image file. This function also ensures\n",
    "    that the folder output exists.\n",
    "    :param figure: matplotlib figure\n",
    "    :param file_name: string name of the file\n",
    "    :param more_options: boolean whether we want more options or not\n",
    "    :param dpi: int value for the dpi\n",
    "    :return: string path to the file\n",
    "    \"\"\"\n",
    "    execution_halted_str = 'Execution halted in the function write_to_image_file!!!'\n",
    "    path_of_directory = os.path.join(os.getcwd(), \"output\")\n",
    "    path_of_file = os.path.join(os.getcwd(), \"output\", file_name)\n",
    "    if os.path.exists(path_of_directory):\n",
    "        if more_options:\n",
    "            figure.savefig(path_of_file, dpi=dpi, cmap='summer', edgecolor='black', linewidth=0.2, alpha=1,\n",
    "                           bbox_inches='tight')\n",
    "        else:\n",
    "            figure.savefig(path_of_file, dpi=dpi, bbox_inches='tight')\n",
    "        return path_of_file\n",
    "    else:\n",
    "        raise FileNotFoundError(\n",
    "            \"{} The file {} was not found in the current directory.\".format(execution_halted_str,\n",
    "                                                                            path_of_directory))\n",
    "\n",
    "def plot_db_scan(X, model):\n",
    "    \"\"\"\n",
    "    This code plots the clustered points. This function has been inspired from the\n",
    "    DBSCAN example (https://scikit-learn.org/stable/auto_examples/cluster/plot_dbscan.html) and the example provide\n",
    "    by Elham https://notebooks.azure.com/ElhamN/projects/GEOM90042-1/html/L6/plotClusters.py\n",
    "    :param X: a 2D numpy array of coordinates\n",
    "    :param model: a model containg the DBSCAN result\n",
    "    \"\"\"\n",
    "    # plotting the results\n",
    "    labels = model.labels_\n",
    "    core_samples_mask = np.zeros_like(model.labels_, dtype=bool)\n",
    "    core_samples_mask[model.core_sample_indices_] = True\n",
    "    print(len(labels))\n",
    "    # Black removed and is used for noise instead.\n",
    "    unique_labels = set(labels)\n",
    "    colors = [plt.cm.Spectral(each)\n",
    "              for each in np.linspace(0, 1, len(unique_labels))]\n",
    "    for k, col in zip(unique_labels, colors):\n",
    "        if k == -1:\n",
    "            # Black used for noise.\n",
    "            col = [0, 0, 0, 1]\n",
    "\n",
    "        class_member_mask = (labels == k)\n",
    "\n",
    "        xy = X[class_member_mask & core_samples_mask]\n",
    "        plt.plot(xy[:, 0], xy[:, 1], 'o', markerfacecolor=tuple(col),\n",
    "                 markeredgecolor='k', markersize=6)\n",
    "\n",
    "        xy = X[class_member_mask & ~core_samples_mask]\n",
    "        plt.plot(xy[:, 0], xy[:, 1], 'o', markerfacecolor=tuple(col),\n",
    "                 markeredgecolor='k', markersize=6)\n",
    "        plt.savefig('output/dbscan_cluster1.png', dpi=200, bbox_inches='tight')\n",
    "        return write_to_image_file(plt, \"dbscan_cluster.png\", False, 100)\n",
    "\n",
    "def get_type_of_hour_day(data):\n",
    "    \"\"\"\n",
    "    This function returns a string representation of the type of hour of day\n",
    "    :param x: int value of hour\n",
    "    :return: string representation of the type of hour of day\n",
    "    \"\"\"\n",
    "    \n",
    "    time_of_accident = data['Time Occurred']\n",
    "    hour = int(time_of_accident/100)\n",
    "    if hour >= 0 and hour <= 5:\n",
    "        return 'Early Morning'\n",
    "    elif hour >= 6 and hour <= 11:\n",
    "        return 'Morning'\n",
    "    elif hour >= 12 and hour <= 14:\n",
    "        return 'Early Afternoon'\n",
    "    elif hour >= 15 and hour <= 17:\n",
    "        return 'Afternoon'\n",
    "    elif hour >= 18 and hour <= 19:\n",
    "        return 'Early Evening'\n",
    "    elif hour >= 20 and hour <= 23:\n",
    "        return 'Night'\n",
    "    \n",
    "def categorize_type_of_day(data):\n",
    "    \"\"\"\n",
    "    This function returns either the day provided is a week day or a weekend.\n",
    "    :param x: string value of day\n",
    "    :return: string\n",
    "    \"\"\"\n",
    "    date_of_accident = parse(data['Date Occurred'].split('T')[0])\n",
    "    weekDays = (\"Monday\",\"Tuesday\",\"Wednesday\",\"Thursday\",\"Friday\",\"Saturday\",\"Sunday\")\n",
    "    day_type = weekDays[date_of_accident.weekday()]\n",
    "\n",
    "    if day_type == 'Monday':\n",
    "        return 'Week Day'\n",
    "    elif day_type == 'Tuesday':\n",
    "        return 'Week Day'\n",
    "    elif day_type == 'Wednesday':\n",
    "        return 'Week Day'\n",
    "    elif day_type == 'Thursday':\n",
    "        return 'Week Day'\n",
    "    elif day_type == 'Friday':\n",
    "        return 'Week Day'\n",
    "    else:\n",
    "        return 'Weekend'   \n",
    "    \n",
    "def seperate_years(data):\n",
    "    return parse(data['Date Occurred'].split('T')[0]).year    \n",
    "\n",
    "def concat_day_hour_type(data):\n",
    "    return data['DAY_TYPE']+'-'+data['HOUR_TYPE']\n",
    "\n",
    "def specify_descent(data):\n",
    "    descents={\n",
    "    \"A\":\"Other Asian\", \"B\":\"Black\",\"C\":\"Chinese\",\"D\":\"Cambodian\",\n",
    "    \"F\":\"Filipino\",\"G\":\"Guamanian\",\"H\":\"Hispanic/Latin/Mexican\",\n",
    "    \"I\":\"American Indian/Alaskan Native\",\"J\":\"Japanese\",\n",
    "    \"K\":\"Korean\",\"L\":\"Laotian\",\"O\":\"Other\",\"P\":\"Pacific Islander\",\n",
    "    \"S\":\"Samoan\",\"U\":\"Hawaiian\",\"V\":\"Vietnamese\",\"W\":\"White\",\n",
    "    \"X\":\"Unknown\",\"Z\":\"Asian Indian\"\n",
    "    }\n",
    "    return descents[data['Victim Descent']]\n",
    "\n",
    "def get_age_range(age, bins):\n",
    "    bins = [int(x) for x in bins]\n",
    "    age_bin=[]\n",
    "    for i, val in enumerate(bins):\n",
    "        if i==0:\n",
    "            age_bin.append((bins[i],bins[i+1]))\n",
    "        elif i>0 and i<len(bins)-1:\n",
    "            age_bin.append((bins[i]+1,bins[i+1]))\n",
    "    range=\"\"\n",
    "    for bin in age_bin:\n",
    "        if age >= bin[0] and age<=bin[1]:\n",
    "            range=\"{}-{}\".format(bin[0],bin[1])\n",
    "            break\n",
    "\n",
    "    if range is \"\":\n",
    "        return \"{}+\".format(age_bin[-1][1])\n",
    "        \n",
    "    else:\n",
    "        return range\n",
    "        \n",
    "def get_salary_range(salary, bins):\n",
    "    bins = [int(x) for x in bins]\n",
    "    bins_sets=[]\n",
    "    for i, val in enumerate(bins):\n",
    "        if i==0:\n",
    "            bins_sets.append((bins[i],bins[i+1]))\n",
    "        elif i>0 and i<len(bins)-1:\n",
    "            bins_sets.append((bins[i]+1,bins[i+1]))\n",
    "    range=\"\"\n",
    "    for bin in bins_sets:\n",
    "        if salary >= bin[0] and salary<=bin[1]:\n",
    "            range=\"{}-{}\".format(bin[0],bin[1])\n",
    "            break\n",
    "\n",
    "    if range is \"\":\n",
    "        return \"{}+\".format(bins_sets[-1][1])\n",
    "    else:\n",
    "        return range \n",
    "    \n",
    "def sort_ranges(range_bin, ranges, count_list):\n",
    "    # The following code gets the order of the range according to the bin associated with that range, and then \n",
    "    # in the end sorts the ranges based on the index that has been retrieved bringing the ranges in the correct order.\n",
    "    range_bins=[]\n",
    "    for i,r in enumerate(ranges):\n",
    "        if '+' in r:\n",
    "            p1=int(r.split('+')[0])            \n",
    "            if p1>= range_bin[-1][1]:\n",
    "                range_bins.append([len(range_bin)-1,r, count_list[i]])\n",
    "        else:            \n",
    "            p1=int(r.split('-')[0])\n",
    "            p2=int(r.split('-')[1])\n",
    "            index=range_bin.index((p1,p2))\n",
    "            range_bins.append([index,r, count_list[i]])\n",
    "    range_bins=sorted(range_bins, key=lambda x: x[0])\n",
    "    range_bin=[x[1] for x in range_bins]\n",
    "    range_counts=[x[2] for x in range_bins]\n",
    "    return range_bin, range_counts\n",
    "    \n",
    "    "
   ]
  },
  {
   "cell_type": "code",
   "execution_count": 82,
   "metadata": {},
   "outputs": [],
   "source": [
    "create_output_directory()"
   ]
  },
  {
   "cell_type": "code",
   "execution_count": 83,
   "metadata": {},
   "outputs": [],
   "source": [
    "required_columns = [\"status\",\"card_present_flag\",\"bpay_biller_code\",\"account\",\"currency\",\"long_lat\",\"txn_description\",\"merchant_id\",\"merchant_code\",\"first_name\",\"balance\",\"date\",\"gender\",\"age\",\"merchant_suburb\",\"merchant_state\",\"extraction\",\"amount\",\"transaction_id\",\"country\",\"customer_id\",\"merchant_long_lat\",\"movement\"]\n",
    "data_frame = read_excel_file(\"anz_dataset.xlsx\", required_columns)"
   ]
  },
  {
   "cell_type": "code",
   "execution_count": 84,
   "metadata": {},
   "outputs": [
    {
     "data": {
      "text/plain": [
       "Index(['status', 'card_present_flag', 'bpay_biller_code', 'account',\n",
       "       'currency', 'long_lat', 'txn_description', 'merchant_id',\n",
       "       'merchant_code', 'first_name', 'balance', 'date', 'gender', 'age',\n",
       "       'merchant_suburb', 'merchant_state', 'extraction', 'amount',\n",
       "       'transaction_id', 'country', 'customer_id', 'merchant_long_lat',\n",
       "       'movement'],\n",
       "      dtype='object')"
      ]
     },
     "execution_count": 84,
     "metadata": {},
     "output_type": "execute_result"
    }
   ],
   "source": [
    "data_frame.columns"
   ]
  },
  {
   "cell_type": "code",
   "execution_count": 85,
   "metadata": {},
   "outputs": [],
   "source": [
    "data_frame.head()\n",
    "salary_trans = data_frame[data_frame['txn_description']=='PAY/SALARY']\n",
    "#accidents_locations_area_name=get_columns_from_data(accidents_locations_zones, ['DR Number','Area Name'])\n",
    "male_salary=salary_trans[salary_trans['gender']=='M']\n",
    "female_salary=salary_trans[salary_trans['gender']=='F']"
   ]
  },
  {
   "cell_type": "code",
   "execution_count": 86,
   "metadata": {},
   "outputs": [],
   "source": [
    "average_male_salary=male_salary['amount'].values.mean()\n",
    "average_female_salary=female_salary['amount'].values.mean()"
   ]
  },
  {
   "cell_type": "code",
   "execution_count": 39,
   "metadata": {},
   "outputs": [
    {
     "data": {
      "text/plain": [
       "2096.811681034483"
      ]
     },
     "execution_count": 39,
     "metadata": {},
     "output_type": "execute_result"
    }
   ],
   "source": [
    "average_male_salary"
   ]
  },
  {
   "cell_type": "code",
   "execution_count": 40,
   "metadata": {},
   "outputs": [
    {
     "data": {
      "text/plain": [
       "1679.370477326969"
      ]
     },
     "execution_count": 40,
     "metadata": {},
     "output_type": "execute_result"
    }
   ],
   "source": [
    "average_female_salary"
   ]
  },
  {
   "cell_type": "code",
   "execution_count": 41,
   "metadata": {},
   "outputs": [
    {
     "data": {
      "text/plain": [
       "<matplotlib.axes._subplots.AxesSubplot at 0x1359a21f828>"
      ]
     },
     "execution_count": 41,
     "metadata": {},
     "output_type": "execute_result"
    },
    {
     "data": {
      "image/png": "[encoded data removed]",
      "text/plain": [
       "<Figure size 432x288 with 1 Axes>"
      ]
     },
     "metadata": {
      "needs_background": "light"
     },
     "output_type": "display_data"
    }
   ],
   "source": [
    "male_salary['amount'].plot(kind='bar')"
   ]
  },
  {
   "cell_type": "code",
   "execution_count": 87,
   "metadata": {},
   "outputs": [],
   "source": [
    "data_frame['geometry'] = data_frame.apply(build_geometry, axis=1)\n",
    "data_frame['longitude'] = data_frame.apply(build_longitude, axis=1)\n",
    "data_frame['latitude'] = data_frame.apply(build_latitude, axis=1)\n",
    "anz_transactions = data_frame.loc[data_frame['geometry'].notnull()]\n",
    "anz_transactions = geopandas.GeoDataFrame(anz_transactions, geometry=anz_transactions.geometry)\n",
    "anz_transactions.crs = {'init': 'epsg:4326', 'no_defs': True}\n",
    "bins=np.linspace(anz_transactions['age'].values.min(),anz_transactions['age'].values.max(), 10)\n",
    "anz_transactions['AGE_RANGE']=anz_transactions['age'].apply(get_age_range, args=(bins,))"
   ]
  },
  {
   "cell_type": "code",
   "execution_count": null,
   "metadata": {},
   "outputs": [],
   "source": [
    "anz_transactions_pos_pos_sales = anz_transactions[(anz_transactions['txn_description']=='POS') | (anz_transactions['txn_description']=='SALES-POS')]"
   ]
  },
  {
   "cell_type": "code",
   "execution_count": null,
   "metadata": {},
   "outputs": [],
   "source": [
    "#get_columns_from_data(anz_transactions_pos_pos_sales,[])\n",
    "anz_transactions_pos_pos_sales.columns"
   ]
  },
  {
   "cell_type": "code",
   "execution_count": null,
   "metadata": {},
   "outputs": [],
   "source": [
    "#anz_transactions_pos_pos_sales\n",
    "#write_to_geojson_file(anz_transactions_pos_pos_sales,\"anz_transactions_pos_pos_sales.geojson\")"
   ]
  },
  {
   "cell_type": "code",
   "execution_count": null,
   "metadata": {},
   "outputs": [],
   "source": [
    "grouped_by_age=group_by_data(anz_transactions_pos_pos_sales,['AGE_RANGE'])\n",
    "grouped_by_age"
   ]
  },
  {
   "cell_type": "code",
   "execution_count": 93,
   "metadata": {},
   "outputs": [
    {
     "data": {
      "image/png": "[encoded data removed]",
      "text/plain": [
       "<Figure size 432x288 with 1 Axes>"
      ]
     },
     "metadata": {
      "needs_background": "light"
     },
     "output_type": "display_data"
    },
    {
     "data": {
      "text/plain": [
       "'D:\\\\data analysis\\\\anz internship\\\\output\\\\number_of_pos,_pos-sale_transactions_by_age-range.png'"
      ]
     },
     "execution_count": 93,
     "metadata": {},
     "output_type": "execute_result"
    }
   ],
   "source": [
    "grouped_age = list(grouped_by_age['AGE_RANGE'])\n",
    "grouped_age_count=list(grouped_by_age['count'])\n",
    "plot_bar_plot(grouped_age, grouped_age_count, 'Age', 'Number of POS, POS-SALE Transactions by Age-Range',\n",
    "                              'Number of POS, POS-SALE Transactions by Age-Range')\n"
   ]
  },
  {
   "cell_type": "code",
   "execution_count": null,
   "metadata": {},
   "outputs": [],
   "source": [
    "salary_trans = anz_transactions[(anz_transactions['txn_description']=='PAY/SALARY')]\n",
    "grouped_by_age=group_by_data(salary_trans,['AGE_RANGE'])\n",
    "grouped_by_age\n",
    "grouped_age = list(grouped_by_age['AGE_RANGE'])\n",
    "grouped_age_count=list(grouped_by_age['count'])\n",
    "plot_bar_plot(grouped_age, grouped_age_count, 'Age', 'Number of PAY/SALARY Transactions by Age-Range',\n",
    "                              'Number of PAY/SALARY Transactions by Age-Range')\n"
   ]
  },
  {
   "cell_type": "code",
   "execution_count": 119,
   "metadata": {},
   "outputs": [
    {
     "name": "stderr",
     "output_type": "stream",
     "text": [
      "C:\\Users\\Mustafa Neguib\\Anaconda3\\lib\\site-packages\\ipykernel_launcher.py:2: SettingWithCopyWarning: \n",
      "A value is trying to be set on a copy of a slice from a DataFrame.\n",
      "Try using .loc[row_indexer,col_indexer] = value instead\n",
      "\n",
      "See the caveats in the documentation: http://pandas.pydata.org/pandas-docs/stable/indexing.html#indexing-view-versus-copy\n",
      "  \n"
     ]
    },
    {
     "data": {
      "text/plain": [
       "['1494-2411',\n",
       " '2412-3329',\n",
       " '3330-4247',\n",
       " '4248-5164',\n",
       " '5165-6082',\n",
       " '576-1493',\n",
       " '6083-7000',\n",
       " '8835+']"
      ]
     },
     "execution_count": 119,
     "metadata": {},
     "output_type": "execute_result"
    }
   ],
   "source": [
    "bins=np.linspace(salary_trans['amount'].values.min(),salary_trans['amount'].values.max(), 10)\n",
    "salary_trans['SALARY_RANGE']=salary_trans['amount'].apply(get_salary_range, args=(bins,))\n",
    "grouped_by_salary=group_by_data(salary_trans,['SALARY_RANGE'])\n",
    "grouped_salary = list(grouped_by_salary['SALARY_RANGE'])\n",
    "grouped_salary_count=list(grouped_by_salary['count'])\n",
    "grouped_salary"
   ]
  },
  {
   "cell_type": "code",
   "execution_count": 158,
   "metadata": {},
   "outputs": [
    {
     "data": {
      "text/plain": [
       "[(0, 10),\n",
       " (11, 20),\n",
       " (21, 30),\n",
       " (31, 40),\n",
       " (41, 50),\n",
       " (51, 60),\n",
       " (61, 70),\n",
       " (71, 80),\n",
       " (81, 90)]"
      ]
     },
     "execution_count": 158,
     "metadata": {},
     "output_type": "execute_result"
    }
   ],
   "source": [
    "ranges=['61-70','51-60','21-30','90+']\n",
    "count_list=[2,3,4,5]\n",
    "x,y=sort_ranges(age_bin, ranges, count_list)\n",
    "age_bin"
   ]
  },
  {
   "cell_type": "code",
   "execution_count": 142,
   "metadata": {},
   "outputs": [
    {
     "data": {
      "image/png": "[encoded data removed]",
      "text/plain": [
       "<Figure size 432x288 with 1 Axes>"
      ]
     },
     "metadata": {
      "needs_background": "light"
     },
     "output_type": "display_data"
    },
    {
     "data": {
      "text/plain": [
       "'D:\\\\data analysis\\\\anz internship\\\\output\\\\number_of_people_paid_by_salary-range.png'"
      ]
     },
     "execution_count": 142,
     "metadata": {},
     "output_type": "execute_result"
    }
   ],
   "source": [
    "plot_bar_plot(grouped_salary, grouped_salary_count, 'Salary Range', 'Number of people',\n",
    "                             'Number of people paid by Salary-Range')"
   ]
  },
  {
   "cell_type": "code",
   "execution_count": null,
   "metadata": {},
   "outputs": [],
   "source": [
    "bins=np.linspace(salary_trans['amount'].values.min(),salary_trans['amount'].values.max(), 10)\n",
    "bins = [int(x) for x in bins]\n",
    "bins_sets=[]\n",
    "for i, val in enumerate(bins):\n",
    "    if i==0:\n",
    "        bins_sets.append((bins[i],bins[i+1]))\n",
    "    elif i>0 and i<len(bins)-1:\n",
    "        bins_sets.append((bins[i]+1,bins[i+1]))"
   ]
  },
  {
   "cell_type": "code",
   "execution_count": null,
   "metadata": {},
   "outputs": [],
   "source": [
    "bins_sets"
   ]
  },
  {
   "cell_type": "code",
   "execution_count": 45,
   "metadata": {},
   "outputs": [],
   "source": [
    "s = pd.Series([20, 21, 12], index=['London', 'New York', 'Helsinki'])"
   ]
  },
  {
   "cell_type": "code",
   "execution_count": 46,
   "metadata": {},
   "outputs": [
    {
     "data": {
      "text/plain": [
       "London      20\n",
       "New York    21\n",
       "Helsinki    12\n",
       "dtype: int64"
      ]
     },
     "execution_count": 46,
     "metadata": {},
     "output_type": "execute_result"
    }
   ],
   "source": [
    "s"
   ]
  },
  {
   "cell_type": "code",
   "execution_count": 47,
   "metadata": {},
   "outputs": [],
   "source": [
    "def subtract_custom_value(x, custom_value):\n",
    "    print(x)\n",
    "    print(custom_value)"
   ]
  },
  {
   "cell_type": "code",
   "execution_count": 54,
   "metadata": {},
   "outputs": [
    {
     "name": "stdout",
     "output_type": "stream",
     "text": [
      "20\n",
      "[18.         24.66666667 31.33333333 38.         44.66666667 51.33333333\n",
      " 58.         64.66666667 71.33333333 78.        ]\n",
      "21\n",
      "[18.         24.66666667 31.33333333 38.         44.66666667 51.33333333\n",
      " 58.         64.66666667 71.33333333 78.        ]\n",
      "12\n",
      "[18.         24.66666667 31.33333333 38.         44.66666667 51.33333333\n",
      " 58.         64.66666667 71.33333333 78.        ]\n"
     ]
    },
    {
     "data": {
      "text/plain": [
       "London      None\n",
       "New York    None\n",
       "Helsinki    None\n",
       "dtype: object"
      ]
     },
     "execution_count": 54,
     "metadata": {},
     "output_type": "execute_result"
    }
   ],
   "source": [
    "s.apply(subtract_custom_value, args=(bins,))"
   ]
  },
  {
   "cell_type": "code",
   "execution_count": 101,
   "metadata": {},
   "outputs": [
    {
     "data": {
      "text/plain": [
       "array([  0.        ,  12.22222222,  24.44444444,  36.66666667,\n",
       "        48.88888889,  61.11111111,  73.33333333,  85.55555556,\n",
       "        97.77777778, 110.        ])"
      ]
     },
     "execution_count": 101,
     "metadata": {},
     "output_type": "execute_result"
    }
   ],
   "source": [
    "bins=np.linspace(0,110, 10)\n",
    "age_bin=[(0,10),(11,20),(21,30),(31,40),(41,50),(51,60),(61,70),(71,80),(81,90)]\n",
    "\n",
    "bins"
   ]
  },
  {
   "cell_type": "code",
   "execution_count": 111,
   "metadata": {},
   "outputs": [
    {
     "name": "stdout",
     "output_type": "stream",
     "text": [
      "6\n",
      "5\n",
      "2\n"
     ]
    },
    {
     "data": {
      "text/plain": [
       "[[2, '21-30'], [5, '51-60'], [6, '61-70']]"
      ]
     },
     "execution_count": 111,
     "metadata": {},
     "output_type": "execute_result"
    }
   ],
   "source": [
    "# The following code gets the order of the range according to the bin associated with that range, and then \n",
    "# in the end sorts the ranges based on the index that has been retrieved bringing the ranges in the correct order.\n",
    "ranges=['61-70','51-60','21-30']\n",
    "num=bins[5]\n",
    "range_bins=[]\n",
    "for range in ranges:\n",
    "    p1=int(range.split('-')[0])\n",
    "    p2=int(range.split('-')[1])\n",
    "    index=age_bin.index((p1,p2))\n",
    "    print(index)\n",
    "    range_bins.append([index,range])\n",
    "range_bins    \n",
    "sorted(range_bins, key=lambda x: x[0])"
   ]
  },
  {
   "cell_type": "code",
   "execution_count": 105,
   "metadata": {},
   "outputs": [
    {
     "data": {
      "text/plain": [
       "6"
      ]
     },
     "execution_count": 105,
     "metadata": {},
     "output_type": "execute_result"
    }
   ],
   "source": [
    "age_bin.index((61,70))"
   ]
  },
  {
   "cell_type": "code",
   "execution_count": 134,
   "metadata": {},
   "outputs": [
    {
     "data": {
      "text/plain": [
       "False"
      ]
     },
     "execution_count": 134,
     "metadata": {},
     "output_type": "execute_result"
    }
   ],
   "source": [
    "num_st='20-30'\n",
    "'+' in num_st"
   ]
  },
  {
   "cell_type": "code",
   "execution_count": null,
   "metadata": {},
   "outputs": [],
   "source": []
  }
 ],
 "metadata": {
  "kernelspec": {
   "display_name": "Python 3",
   "language": "python",
   "name": "python3"
  },
  "language_info": {
   "codemirror_mode": {
    "name": "ipython",
    "version": 3
   },
   "file_extension": ".py",
   "mimetype": "text/x-python",
   "name": "python",
   "nbconvert_exporter": "python",
   "pygments_lexer": "ipython3",
   "version": "3.7.3"
  }
 },
 "nbformat": 4,
 "nbformat_minor": 2
}
